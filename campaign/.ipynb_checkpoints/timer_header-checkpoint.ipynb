{
 "cells": [
  {
   "cell_type": "code",
   "execution_count": 4,
   "metadata": {},
   "outputs": [
    {
     "data": {
      "text/plain": [
       "4.24"
      ]
     },
     "execution_count": 4,
     "metadata": {},
     "output_type": "execute_result"
    }
   ],
   "source": [
    "timer.subclip(t_start=1,t_end=3.3)"
   ]
  },
  {
   "cell_type": "code",
   "execution_count": null,
   "metadata": {},
   "outputs": [],
   "source": [
    "import os\n",
    "import subprocess\n",
    "from moviepy.editor import *\n",
    "url = 'poke_deviant_paper'\n",
    "source = '../{}'.format(url)\n",
    "files = os.listdir(source)\n",
    "new_name = sorted(files,reverse=False)\n",
    "i = 1\n",
    "for _,v in enumerate(new_name[:]):\n",
    "    if 'mp4' not in v:\n",
    "        continue\n",
    "    vid = VideoFileClip(source + '/'  + v).crop(y1=20)\n",
    "    header = VideoFileClip('../header2_an.mp4').resize(width=1920)\n",
    "    header =  vfx.freeze(header,t=1,freeze_duration=vid.duration - header.duration)\n",
    "    temp= clips_array([[header],[vid]])\n",
    "    timer = VideoFileClip('../timer2_an_Trim.mp4').resize(temp.size).subclip(t_start=1,t_end=3.2)\n",
    "    print(timer.duration, temp.duration)\n",
    "    concatenate_videoclips([timer,temp]).write_videofile('{}'.format(url + '/'  + str(i) + '.mp4'))\n",
    "    i += 1\n",
    "subprocess.run('rm -r ./videos/{}/.ipynb_checkpoints'.format(url),shell=True)"
   ]
  }
 ],
 "metadata": {
  "kernelspec": {
   "display_name": "Python 3",
   "language": "python",
   "name": "python3"
  },
  "language_info": {
   "codemirror_mode": {
    "name": "ipython",
    "version": 3
   },
   "file_extension": ".py",
   "mimetype": "text/x-python",
   "name": "python",
   "nbconvert_exporter": "python",
   "pygments_lexer": "ipython3",
   "version": "3.6.9"
  }
 },
 "nbformat": 4,
 "nbformat_minor": 4
}
