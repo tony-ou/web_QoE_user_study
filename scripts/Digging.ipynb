{
 "cells": [
  {
   "cell_type": "code",
   "execution_count": 1,
   "metadata": {},
   "outputs": [],
   "source": [
    "import numpy as np\n",
    "import re\n",
    "import os\n",
    "import sys\n",
    "import subprocess\n",
    "import pandas as pd\n",
    "from sklearn.preprocessing import StandardScaler"
   ]
  },
  {
   "cell_type": "code",
   "execution_count": 41,
   "metadata": {
    "collapsed": true
   },
   "outputs": [
    {
     "name": "stdout",
     "output_type": "stream",
     "text": [
      "A3QS7M912JGKFD.txt\n",
      "A3L60SOWLYEDN2.txt\n",
      "A28A3HF3LSEIDT.txt\n",
      "A3AKZJNAUP8LSA.txt\n",
      "A1IHI23KH87K5W.txt\n",
      "A3QI1RV4HQ9MOC.txt\n",
      "A1FHS282JP487T.txt\n",
      "AISFU4P55HYEH.txt\n",
      "A2BO8M77CS3SGZ.txt\n",
      "A257UIPAZR9NTN.txt\n",
      "A2LEY4X3LD8G26.txt\n",
      "A3VOMP0WOJTB4I.txt\n",
      "A1IOMFFEKCWOIT.txt\n",
      "A2YHSU2IJZ9J14.txt\n",
      "A299J4PKHAEU9H.txt\n",
      "A2J237J8KM3OCS.txt\n",
      "A1XO6ONCCTBMKW.txt\n",
      "A3UUH3632AI3ZX.txt\n",
      "A2BAQ26SMQQEUG.txt\n",
      "A341XKSRZ58FJK.txt\n",
      "A2QD9PJUKW7PKK.txt\n",
      "APSN3KV49VLKX.txt\n",
      "A1CF6U3GF7DZEJ.txt\n",
      "ASWZO1WY1UHEP.txt\n",
      "A3TUMZ954ORSUC.txt\n",
      "A1IU5OP7BBZHZ7.txt\n",
      "AA7BTDZQNHW5.txt\n",
      "A5YNMUFWH5Z7K.txt\n",
      "A37M4OVE9R80G.txt\n",
      "A2R0YYUAWNT7UD.txt\n",
      "A2PYXFVGNJPPX0.txt\n",
      "A10NF5TK6IFNX6.txt\n",
      "a2h4hydu6ffamq.txt\n",
      "A1DVKS3R9SLQ1H.txt\n",
      "A26399B1QZ7XJJ.txt\n",
      "A5LYLHG880ABE.txt\n",
      "A26RPQDD0RQEHL.txt\n",
      "ABM77ZQWCHPNX.txt\n"
     ]
    }
   ],
   "source": [
    "import os\n",
    "for a in os.listdir('../results')[:]:\n",
    "    print(a)\n",
    "    with open('../results/{}'.format(a)) as f:\n",
    "        b = f.readlines()\n",
    "        b = list(map(lambda x:x.strip().split(','),b))\n",
    "        b = list(map(lambda x: list(filter(len,x)),b))\n",
    "        \n",
    "    with open('../results/{}'.format(a),'w') as f:\n",
    "        f.writelines(list(map(lambda x:','.join(x)+'\\n',b)))"
   ]
  },
  {
   "cell_type": "code",
   "execution_count": 5,
   "metadata": {},
   "outputs": [
    {
     "name": "stdout",
     "output_type": "stream",
     "text": [
      "A3AKZJNAUP8LSA.txt\n",
      "A3QI1RV4HQ9MOC.txt\n",
      "A1CF6U3GF7DZEJ.txt\n",
      "A3TUMZ954ORSUC.txt\n",
      "A37M4OVE9R80G.txt\n",
      "A2PYXFVGNJPPX0.txt\n",
      "a2h4hydu6ffamq.txt\n",
      "A1DVKS3R9SLQ1H.txt\n",
      "A5LYLHG880ABE.txt\n",
      "reject: 9\n",
      "approved: 29\n",
      "rejection ratio: 0.23684210526315788\n"
     ]
    }
   ],
   "source": [
    "subprocess.run('mv ../rejected_results/* ../results',shell=True)\n",
    "#Sample filter function\n",
    "def filter_single_video(video_times, rating_times, video_order, scores,attentions):\n",
    "    #First check if user watching alines with video length\n",
    "    #0.5 sec tolerance for black screen at the end\n",
    "    ret = 0\n",
    "    bad = 0\n",
    "    violate = 0\n",
    "    a = 0\n",
    "    for k in video_times[:-1]:\n",
    "        if k < 7000:\n",
    "            a += 1\n",
    "    if video_times[-1] < 4000:\n",
    "        a +=1\n",
    "    if scores[-1] != max(scores):\n",
    "        a+=1\n",
    "    if attentions[0] != 1:\n",
    "        a+=1\n",
    "    #if scores[3] > scores[2] or scores[1] > scores[0]:\n",
    "    #    a+=1\n",
    "\n",
    "    if a >0:\n",
    "        return 1\n",
    "    return 0 #We don't move this user to rejected folder\n",
    "\n",
    "#Parse data from user result file \n",
    "def parse_results(lines):\n",
    "    #video_times = list(map(int,lines[2].strip().split(','))) #read times spent on each video  \n",
    "    #rating_times = list(map(int,lines[3].strip().split(','))) #read times spent on each rating  \n",
    "    video_times = []; rating_times = []\n",
    "    video_order = list(map(int,lines[1].strip().split(','))) #read the video order seen by the surveyee\n",
    "    scores = list(map(int,lines[0].strip().split(','))) #read scores\n",
    "    attentions = list(map(int,lines[-2].strip().split(','))) #attention checks    \n",
    "    video_times =  list(map(int,lines[2].strip().split(','))) \n",
    "    return video_times, rating_times, video_order, scores, attentions\n",
    "\n",
    "\n",
    "#input from the cmd line script\n",
    "result_path = '../results/'\n",
    "#white_list = '../good/'\n",
    "\n",
    "\n",
    "move = False\n",
    "result_files = os.listdir(result_path)\n",
    "#white_list_files = os.listdir(white_list)\n",
    "\n",
    "total = 0\n",
    "approved = 0\n",
    "reject = 0\n",
    "pending = 0\n",
    "for result_file in result_files:\n",
    "    #filter a single result\n",
    "    total +=1\n",
    "    '''\n",
    "    if result_file in white_list_files:\n",
    "        approved +=1\n",
    "        continue\n",
    "    '''\n",
    "    result = result_path + result_file\n",
    "    #print(result)\n",
    "    with open(result, \"r\") as fp:\n",
    "        lines = fp.readlines()\n",
    "        move = False\n",
    "\n",
    "        #insert customized filter here \n",
    "        move = filter_single_video(*parse_results(lines))\n",
    "        if move == 1:\n",
    "            reject +=1\n",
    "            print(result_file)\n",
    "            os.system(\"mv {} ../rejected_results/\".format(result))\n",
    "        else:\n",
    "            approved +=1\n",
    "\n",
    "print('reject:',reject)\n",
    "print('approved:',approved)\n",
    "print('rejection ratio:', reject/(reject+approved))\n"
   ]
  },
  {
   "cell_type": "code",
   "execution_count": 43,
   "metadata": {},
   "outputs": [
    {
     "data": {
      "text/plain": [
       "CompletedProcess(args='./get_results.sh', returncode=0)"
      ]
     },
     "execution_count": 43,
     "metadata": {},
     "output_type": "execute_result"
    }
   ],
   "source": [
    "subprocess.run('./get_results.sh',shell=True)"
   ]
  },
  {
   "cell_type": "code",
   "execution_count": 47,
   "metadata": {},
   "outputs": [
    {
     "data": {
      "text/plain": [
       "CompletedProcess(args='python3 ./create_csv.py', returncode=0)"
      ]
     },
     "execution_count": 47,
     "metadata": {},
     "output_type": "execute_result"
    }
   ],
   "source": [
    "subprocess.run('python3 ./create_csv.py',shell=True, cwd=\"/tank/yiyangou/web_QoE2\")"
   ]
  },
  {
   "cell_type": "code",
   "execution_count": 2,
   "metadata": {},
   "outputs": [],
   "source": [
    "def to_int(df, names):\n",
    "    for n in names:\n",
    "        df[n] = pd.to_numeric(df[n])\n",
    "    return df\n",
    "def scale(a):\n",
    "    return (a - a.min())/(a.max()-a.min())"
   ]
  },
  {
   "cell_type": "code",
   "execution_count": 5,
   "metadata": {},
   "outputs": [
    {
     "name": "stdout",
     "output_type": "stream",
     "text": [
      "['A3QS7M912JGKFD', 'A3L60SOWLYEDN2', 'A28A3HF3LSEIDT', 'A1IHI23KH87K5W', 'A1FHS282JP487T', 'AISFU4P55HYEH', 'A2BO8M77CS3SGZ', 'A257UIPAZR9NTN', 'A2LEY4X3LD8G26', 'A3VOMP0WOJTB4I', 'A1IOMFFEKCWOIT', 'A2YHSU2IJZ9J14', 'A299J4PKHAEU9H', 'A2J237J8KM3OCS', 'A1XO6ONCCTBMKW', 'A3UUH3632AI3ZX', 'A2BAQ26SMQQEUG', 'A341XKSRZ58FJK', 'A2QD9PJUKW7PKK', 'APSN3KV49VLKX', 'ASWZO1WY1UHEP', 'A1IU5OP7BBZHZ7', 'AA7BTDZQNHW5', 'A5YNMUFWH5Z7K', 'A2R0YYUAWNT7UD', 'A10NF5TK6IFNX6', 'A26399B1QZ7XJJ', 'A26RPQDD0RQEHL', 'ABM77ZQWCHPNX']\n"
     ]
    }
   ],
   "source": [
    "df = pd.read_csv('../sum.csv',header=None)\n",
    "print(list(df[6]))\n",
    "columns = ['scores','video_order','time','reason']\n",
    "#df = df[~df[6].isin(c)]\n",
    "df = df[[0,1,2,10]]\n",
    "df.columns = columns\n",
    "vid = ['score' + str(i+1) for i in range(3)]\n",
    "df[vid]=df.scores.str.split(',',expand=True)\n",
    "df =to_int(df,vid)\n",
    "order = ['order' + str(i+1) for i in range(3)]\n",
    "df[order]=df.video_order.str.split(',',expand=True)\n",
    "df =to_int(df,order)\n",
    "df = df[[*vid,*order,'reason']]"
   ]
  },
  {
   "cell_type": "code",
   "execution_count": 232,
   "metadata": {},
   "outputs": [],
   "source": [
    "def consistency(df):\n",
    "    return ((df['score2'] > df['score1']) & (df['score4'] > df['score3'])) | \\\n",
    "    ((df['score2'] < df['score1']) & (df['score4'] < df['score3'])) | \\\n",
    "((df['score2'] == df['score1']) & (df['score4'] == df['score3']))\n",
    "    "
   ]
  },
  {
   "cell_type": "code",
   "execution_count": 38,
   "metadata": {},
   "outputs": [],
   "source": [
    "a = set(['A2QD9PJUKW7PKK', 'AM0JKZVOEOTMA', 'A1IU5OP7BBZHZ7', 'A3KU8DC7HJOGCM', 'A3A8P4UR9A0DWQ', 'AISFU4P55HYEH', 'A1DVKS3R9SLQ1H', 'A28A3HF3LSEIDT', 'A3AKZJNAUP8LSA', 'A1IHI23KH87K5W', 'A9EVF0SO2IUJ0', 'AA7BTDZQNHW5', 'A5LYLHG880ABE', 'A2SSYBUT9ZM0G9', 'A2PBRI6BOYDN94', 'A2BO8M77CS3SGZ', 'ASWZO1WY1UHEP', 'A1FPCIKO68OQ63', 'A2YHSU2IJZ9J14', 'A1IOMFFEKCWOIT', 'A3VOMP0WOJTB4I', 'A1XO6ONCCTBMKW', 'A2J237J8KM3OCS'])\n",
    "b = set(['A3QS7M912JGKFD', 'A3L60SOWLYEDN2', 'A28A3HF3LSEIDT', 'A1IHI23KH87K5W', 'AISFU4P55HYEH', 'A2BO8M77CS3SGZ', 'A3VOMP0WOJTB4I', 'A1IOMFFEKCWOIT', 'A2YHSU2IJZ9J14', 'A299J4PKHAEU9H', 'A2J237J8KM3OCS', 'A1XO6ONCCTBMKW', 'A2BAQ26SMQQEUG', 'A341XKSRZ58FJK', 'A2QD9PJUKW7PKK', 'APSN3KV49VLKX', 'ASWZO1WY1UHEP', 'A1IU5OP7BBZHZ7', 'AA7BTDZQNHW5', 'A5YNMUFWH5Z7K', 'A37M4OVE9R80G', 'A10NF5TK6IFNX6', 'A1DVKS3R9SLQ1H', 'A26399B1QZ7XJJ', 'A26RPQDD0RQEHL', 'ABM77ZQWCHPNX'])\n",
    "c = a.intersection(b)"
   ]
  },
  {
   "cell_type": "code",
   "execution_count": 7,
   "metadata": {},
   "outputs": [
    {
     "data": {
      "text/plain": [
       "(9, 4, 16)"
      ]
     },
     "execution_count": 7,
     "metadata": {},
     "output_type": "execute_result"
    }
   ],
   "source": [
    "sum(df['score1']>df['score2']),sum(df['score1']<df['score2']),sum(df['score1']==df['score2'])"
   ]
  },
  {
   "cell_type": "code",
   "execution_count": 4,
   "metadata": {},
   "outputs": [
    {
     "data": {
      "text/plain": [
       "(9, 4, 16)"
      ]
     },
     "execution_count": 4,
     "metadata": {},
     "output_type": "execute_result"
    }
   ],
   "source": [
    "sum(df['score1']>df['score2']),sum(df['score1']<df['score2']),sum(df['score1']==df['score2'])"
   ]
  },
  {
   "cell_type": "code",
   "execution_count": 196,
   "metadata": {},
   "outputs": [
    {
     "data": {
      "text/plain": [
       "6"
      ]
     },
     "execution_count": 196,
     "metadata": {},
     "output_type": "execute_result"
    }
   ],
   "source": [
    "len(df2)"
   ]
  },
  {
   "cell_type": "code",
   "execution_count": 76,
   "metadata": {
    "collapsed": true
   },
   "outputs": [
    {
     "name": "stdout",
     "output_type": "stream",
     "text": [
      "score1    0.183468\n",
      "score2    0.198503\n",
      "score3    0.186737\n",
      "score4    0.195431\n",
      "score5    0.099446\n",
      "dtype: float64\n"
     ]
    },
    {
     "data": {
      "text/plain": [
       "score1    2.930233e+00\n",
       "score2    3.139535e+00\n",
       "score3    2.976744e+00\n",
       "score4    3.023256e+00\n",
       "score5    4.837209e+00\n",
       "order1    3.126545e+40\n",
       "order2    5.658892e+40\n",
       "order3    9.584284e+40\n",
       "order4    7.470073e+40\n",
       "order5    1.291990e+41\n",
       "dtype: float64"
      ]
     },
     "execution_count": 76,
     "metadata": {},
     "output_type": "execute_result"
    }
   ],
   "source": [
    "print(df.sem())\n",
    "\n",
    "df.mean()"
   ]
  }
 ],
 "metadata": {
  "kernelspec": {
   "display_name": "Python 3",
   "language": "python",
   "name": "python3"
  },
  "language_info": {
   "codemirror_mode": {
    "name": "ipython",
    "version": 3
   },
   "file_extension": ".py",
   "mimetype": "text/x-python",
   "name": "python",
   "nbconvert_exporter": "python",
   "pygments_lexer": "ipython3",
   "version": "3.6.9"
  }
 },
 "nbformat": 4,
 "nbformat_minor": 4
}
